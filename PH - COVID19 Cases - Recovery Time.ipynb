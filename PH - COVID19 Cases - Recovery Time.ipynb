{
 "cells": [
  {
   "cell_type": "markdown",
   "metadata": {},
   "source": [
    "## Plotting the recovery time of COVID-19 patients in the Philippines\n",
    "\n",
    "This notebook will explore the average recovery time of COVID-19 cases in the country. Further, it aims to clean the data by aggregating or dropping relevant fields in the dataset. This should yield another csv file with additional columns that could add a deeper layer when visualizing with tools like Tableau.\n",
    "\n",
    "Specifically, we want to answer:\n",
    "\n",
    "1. What is the average recovery time for COVID-19 patients in the Philippines?\n",
    "2. What is the average recovery time for males and females?\n",
    "3. What is the average recovery time across all age groups?"
   ]
  },
  {
   "cell_type": "markdown",
   "metadata": {},
   "source": [
    "## About the dataset\n",
    "\n",
    "The DoH uploads a running list of COVID-19 related information daily in the form of data drops. Their case data file has information divided into several columns. For the purposes of this notebook, we'll focus only on the following:\n",
    "\n",
    "* `CaseCode`: Unique code assigned to each case\n",
    "* `DateRepConf`: Date publicly announced as a confirmed case\n",
    "* `DateRecover`: Date the patient has recovered\n",
    "* `AgeGroup`\n",
    "* `Sex`"
   ]
  },
  {
   "cell_type": "markdown",
   "metadata": {},
   "source": [
    "## Technical notes from the DoH about the dataset\n",
    "\n",
    "According to the DoH:\n",
    "\n",
    "* Data is extracted from the COVID-19 Information System by the DOH Epidemiology Bureau (EB) every 12 noon daily.\n",
    "* Data is encoded from mostly paper case investigation forms (CIFs), therefore some encoding discrepancies may occur. \n",
    "* All case data are dynamically updated daily as more accurate information is triangulated from a variety of official sources."
   ]
  },
  {
   "cell_type": "code",
   "execution_count": 1,
   "metadata": {},
   "outputs": [],
   "source": [
    "# Necessary imports and Jupyter magic line\n",
    "\n",
    "%matplotlib inline\n",
    "import pandas as pd\n",
    "import numpy as np\n",
    "import matplotlib.pyplot as plt"
   ]
  },
  {
   "cell_type": "markdown",
   "metadata": {},
   "source": [
    "### Reading and initial cleaning of the dataset"
   ]
  },
  {
   "cell_type": "code",
   "execution_count": 2,
   "metadata": {},
   "outputs": [],
   "source": [
    "# Reading the dataset and making another dataframe which contains only the columns we need\n",
    "\n",
    "case_data = pd.read_csv('DOH COVID19 Case Data 12 May.csv')\n",
    "case_data\n",
    "recovered = case_data[['CaseCode', 'DateRepConf', 'DateRecover', 'Sex', 'AgeGroup']]"
   ]
  },
  {
   "cell_type": "code",
   "execution_count": 3,
   "metadata": {},
   "outputs": [],
   "source": [
    "# Dropping rows which have null values in the DateRecover column\n",
    "\n",
    "recovered = recovered.dropna(subset=['DateRecover'])"
   ]
  },
  {
   "cell_type": "code",
   "execution_count": 4,
   "metadata": {},
   "outputs": [],
   "source": [
    "# Renaming the \"5 to 9\" values in AgeGroup column so they'll be in proper position when sorting later on\n",
    "\n",
    "recovered.AgeGroup = recovered.AgeGroup.str.replace('5 to 9', '05 to 9')"
   ]
  },
  {
   "cell_type": "markdown",
   "metadata": {},
   "source": [
    "### Getting the average recovery time of patients"
   ]
  },
  {
   "cell_type": "code",
   "execution_count": 5,
   "metadata": {},
   "outputs": [],
   "source": [
    "# Converting the values of the DateRepConf and DateRecover columns to datetime\n",
    "\n",
    "recovered['DateRepConf'] = pd.to_datetime(recovered['DateRepConf'])\n",
    "recovered['DateRecover'] = pd.to_datetime(recovered['DateRecover'])"
   ]
  },
  {
   "cell_type": "code",
   "execution_count": 6,
   "metadata": {
    "scrolled": true
   },
   "outputs": [
    {
     "data": {
      "text/plain": [
       " 10    58\n",
       " 14    57\n",
       " 19    52\n",
       " 17    48\n",
       " 15    47\n",
       " 12    47\n",
       " 8     47\n",
       " 6     42\n",
       " 18    42\n",
       " 7     41\n",
       " 11    40\n",
       " 5     35\n",
       " 13    34\n",
       " 4     32\n",
       " 16    29\n",
       " 9     28\n",
       " 3     28\n",
       " 21    26\n",
       " 20    26\n",
       " 22    25\n",
       " 2     24\n",
       " 24    21\n",
       " 23    21\n",
       " 25    17\n",
       " 1     16\n",
       " 30    13\n",
       " 27    12\n",
       " 26    12\n",
       " 28    12\n",
       "-4     11\n",
       " 0     11\n",
       " 31    11\n",
       " 29     8\n",
       "-1      7\n",
       "-5      7\n",
       "-2      6\n",
       "-3      6\n",
       " 32     6\n",
       "-8      5\n",
       " 35     4\n",
       "-6      4\n",
       " 33     3\n",
       " 37     3\n",
       "-9      2\n",
       "-10     2\n",
       "-12     2\n",
       " 41     2\n",
       " 39     2\n",
       " 36     2\n",
       " 34     2\n",
       " 46     1\n",
       " 45     1\n",
       "-7      1\n",
       " 40     1\n",
       "-13     1\n",
       " 38     1\n",
       "-11     1\n",
       "-25     1\n",
       "Name: RecoveryTime, dtype: int64"
      ]
     },
     "execution_count": 6,
     "metadata": {},
     "output_type": "execute_result"
    }
   ],
   "source": [
    "# Adding a new column to our dataframe: 'RecoveryTime' which contains how many days it took before a patient recovered\n",
    "\n",
    "recovered['RecoveryTime'] = (recovered['DateRecover'] - recovered['DateRepConf']).dt.days\n",
    "recovered = recovered[['CaseCode', 'Sex', 'AgeGroup', 'DateRepConf', 'DateRecover', 'RecoveryTime']]\n",
    "recovered['RecoveryTime'].value_counts()"
   ]
  },
  {
   "cell_type": "markdown",
   "metadata": {},
   "source": [
    "**Notice that there are negative numbers included in the column (likely a clerical error when dates for DateRepConf or DateRecover where plugged-in). We will proceed to remove those columns.**"
   ]
  },
  {
   "cell_type": "code",
   "execution_count": 7,
   "metadata": {},
   "outputs": [
    {
     "data": {
      "text/html": [
       "<div>\n",
       "<style scoped>\n",
       "    .dataframe tbody tr th:only-of-type {\n",
       "        vertical-align: middle;\n",
       "    }\n",
       "\n",
       "    .dataframe tbody tr th {\n",
       "        vertical-align: top;\n",
       "    }\n",
       "\n",
       "    .dataframe thead th {\n",
       "        text-align: right;\n",
       "    }\n",
       "</style>\n",
       "<table border=\"1\" class=\"dataframe\">\n",
       "  <thead>\n",
       "    <tr style=\"text-align: right;\">\n",
       "      <th></th>\n",
       "      <th>CaseCode</th>\n",
       "      <th>Sex</th>\n",
       "      <th>AgeGroup</th>\n",
       "      <th>DateRepConf</th>\n",
       "      <th>DateRecover</th>\n",
       "      <th>RecoveryTime</th>\n",
       "    </tr>\n",
       "  </thead>\n",
       "  <tbody>\n",
       "    <tr>\n",
       "      <th>4</th>\n",
       "      <td>C100660</td>\n",
       "      <td>Female</td>\n",
       "      <td>40 to 44</td>\n",
       "      <td>2020-04-02</td>\n",
       "      <td>2020-04-26</td>\n",
       "      <td>24</td>\n",
       "    </tr>\n",
       "    <tr>\n",
       "      <th>10</th>\n",
       "      <td>C101232</td>\n",
       "      <td>Male</td>\n",
       "      <td>30 to 34</td>\n",
       "      <td>2020-03-21</td>\n",
       "      <td>2020-04-20</td>\n",
       "      <td>30</td>\n",
       "    </tr>\n",
       "    <tr>\n",
       "      <th>21</th>\n",
       "      <td>C102036</td>\n",
       "      <td>Female</td>\n",
       "      <td>30 to 34</td>\n",
       "      <td>2020-03-25</td>\n",
       "      <td>2020-04-02</td>\n",
       "      <td>8</td>\n",
       "    </tr>\n",
       "    <tr>\n",
       "      <th>39</th>\n",
       "      <td>C103595</td>\n",
       "      <td>Male</td>\n",
       "      <td>40 to 44</td>\n",
       "      <td>2020-04-11</td>\n",
       "      <td>2020-04-19</td>\n",
       "      <td>8</td>\n",
       "    </tr>\n",
       "    <tr>\n",
       "      <th>50</th>\n",
       "      <td>C104241</td>\n",
       "      <td>Female</td>\n",
       "      <td>60 to 64</td>\n",
       "      <td>2020-03-29</td>\n",
       "      <td>2020-03-31</td>\n",
       "      <td>2</td>\n",
       "    </tr>\n",
       "    <tr>\n",
       "      <th>...</th>\n",
       "      <td>...</td>\n",
       "      <td>...</td>\n",
       "      <td>...</td>\n",
       "      <td>...</td>\n",
       "      <td>...</td>\n",
       "      <td>...</td>\n",
       "    </tr>\n",
       "    <tr>\n",
       "      <th>11289</th>\n",
       "      <td>C995945</td>\n",
       "      <td>Female</td>\n",
       "      <td>45 to 49</td>\n",
       "      <td>2020-04-01</td>\n",
       "      <td>2020-04-09</td>\n",
       "      <td>8</td>\n",
       "    </tr>\n",
       "    <tr>\n",
       "      <th>11303</th>\n",
       "      <td>C996917</td>\n",
       "      <td>Male</td>\n",
       "      <td>30 to 34</td>\n",
       "      <td>2020-03-22</td>\n",
       "      <td>2020-04-07</td>\n",
       "      <td>16</td>\n",
       "    </tr>\n",
       "    <tr>\n",
       "      <th>11306</th>\n",
       "      <td>C997107</td>\n",
       "      <td>Female</td>\n",
       "      <td>30 to 34</td>\n",
       "      <td>2020-04-25</td>\n",
       "      <td>2020-05-06</td>\n",
       "      <td>11</td>\n",
       "    </tr>\n",
       "    <tr>\n",
       "      <th>11322</th>\n",
       "      <td>C997776</td>\n",
       "      <td>Male</td>\n",
       "      <td>25 to 29</td>\n",
       "      <td>2020-04-03</td>\n",
       "      <td>2020-04-07</td>\n",
       "      <td>4</td>\n",
       "    </tr>\n",
       "    <tr>\n",
       "      <th>11327</th>\n",
       "      <td>C998083</td>\n",
       "      <td>Male</td>\n",
       "      <td>50 to 54</td>\n",
       "      <td>2020-04-06</td>\n",
       "      <td>2020-04-18</td>\n",
       "      <td>12</td>\n",
       "    </tr>\n",
       "  </tbody>\n",
       "</table>\n",
       "<p>990 rows × 6 columns</p>\n",
       "</div>"
      ],
      "text/plain": [
       "      CaseCode     Sex  AgeGroup DateRepConf DateRecover  RecoveryTime\n",
       "4      C100660  Female  40 to 44  2020-04-02  2020-04-26            24\n",
       "10     C101232    Male  30 to 34  2020-03-21  2020-04-20            30\n",
       "21     C102036  Female  30 to 34  2020-03-25  2020-04-02             8\n",
       "39     C103595    Male  40 to 44  2020-04-11  2020-04-19             8\n",
       "50     C104241  Female  60 to 64  2020-03-29  2020-03-31             2\n",
       "...        ...     ...       ...         ...         ...           ...\n",
       "11289  C995945  Female  45 to 49  2020-04-01  2020-04-09             8\n",
       "11303  C996917    Male  30 to 34  2020-03-22  2020-04-07            16\n",
       "11306  C997107  Female  30 to 34  2020-04-25  2020-05-06            11\n",
       "11322  C997776    Male  25 to 29  2020-04-03  2020-04-07             4\n",
       "11327  C998083    Male  50 to 54  2020-04-06  2020-04-18            12\n",
       "\n",
       "[990 rows x 6 columns]"
      ]
     },
     "execution_count": 7,
     "metadata": {},
     "output_type": "execute_result"
    }
   ],
   "source": [
    "recovered = recovered.drop(recovered[recovered.RecoveryTime < 0].index)\n",
    "recovered"
   ]
  },
  {
   "cell_type": "code",
   "execution_count": 8,
   "metadata": {},
   "outputs": [
    {
     "data": {
      "text/plain": [
       "14.287878787878787"
      ]
     },
     "execution_count": 8,
     "metadata": {},
     "output_type": "execute_result"
    }
   ],
   "source": [
    "# Now that negative values are removed, we can calculate the average time it takes for patients to recover\n",
    "\n",
    "rectime_avg = recovered['RecoveryTime'].mean()\n",
    "rectime_avg"
   ]
  },
  {
   "cell_type": "markdown",
   "metadata": {},
   "source": [
    "### What is the average recovery time for COVID-19 patients in the Philippines?\n",
    "\n",
    "### Answer: 14.29 days"
   ]
  },
  {
   "cell_type": "code",
   "execution_count": 9,
   "metadata": {
    "scrolled": true
   },
   "outputs": [
    {
     "data": {
      "image/png": "[encoded data removed]",
      "text/plain": [
       "<Figure size 432x288 with 1 Axes>"
      ]
     },
     "metadata": {
      "needs_background": "light"
     },
     "output_type": "display_data"
    }
   ],
   "source": [
    "# Plotting the values from RecoverTime in a histogram\n",
    "\n",
    "recovered.plot(kind='hist', y='RecoveryTime', title='Recovery Time for COVID-19 Patients in the PH', bins=(40), legend=False)\n",
    "\n",
    "plt.xlabel('''Recovery Time (Days)''')\n",
    "plt.ylabel('Patients')\n",
    "plt.show()"
   ]
  },
  {
   "cell_type": "code",
   "execution_count": null,
   "metadata": {},
   "outputs": [],
   "source": []
  },
  {
   "cell_type": "markdown",
   "metadata": {},
   "source": [
    "### Getting the average recovery time for males and females"
   ]
  },
  {
   "cell_type": "code",
   "execution_count": 10,
   "metadata": {
    "scrolled": true
   },
   "outputs": [
    {
     "data": {
      "text/html": [
       "<div>\n",
       "<style scoped>\n",
       "    .dataframe tbody tr th:only-of-type {\n",
       "        vertical-align: middle;\n",
       "    }\n",
       "\n",
       "    .dataframe tbody tr th {\n",
       "        vertical-align: top;\n",
       "    }\n",
       "\n",
       "    .dataframe thead th {\n",
       "        text-align: right;\n",
       "    }\n",
       "</style>\n",
       "<table border=\"1\" class=\"dataframe\">\n",
       "  <thead>\n",
       "    <tr style=\"text-align: right;\">\n",
       "      <th></th>\n",
       "      <th>RecoveryTime</th>\n",
       "    </tr>\n",
       "    <tr>\n",
       "      <th>Sex</th>\n",
       "      <th></th>\n",
       "    </tr>\n",
       "  </thead>\n",
       "  <tbody>\n",
       "    <tr>\n",
       "      <th>Female</th>\n",
       "      <td>14.244395</td>\n",
       "    </tr>\n",
       "    <tr>\n",
       "      <th>Male</th>\n",
       "      <td>14.323529</td>\n",
       "    </tr>\n",
       "    <tr>\n",
       "      <th>All</th>\n",
       "      <td>14.287879</td>\n",
       "    </tr>\n",
       "  </tbody>\n",
       "</table>\n",
       "</div>"
      ],
      "text/plain": [
       "        RecoveryTime\n",
       "Sex                 \n",
       "Female     14.244395\n",
       "Male       14.323529\n",
       "All        14.287879"
      ]
     },
     "execution_count": 10,
     "metadata": {},
     "output_type": "execute_result"
    }
   ],
   "source": [
    "# Creating a pivot table which groups values by sex, and then getting the mean\n",
    "\n",
    "pv_rectime_sex = recovered.pivot_table(['RecoveryTime'], 'Sex', aggfunc=np.mean, margins=True)\n",
    "pv_rectime_sex"
   ]
  },
  {
   "cell_type": "markdown",
   "metadata": {},
   "source": [
    "### Getting the average recovery time for different age groups"
   ]
  },
  {
   "cell_type": "code",
   "execution_count": 11,
   "metadata": {
    "scrolled": true
   },
   "outputs": [
    {
     "data": {
      "text/html": [
       "<div>\n",
       "<style scoped>\n",
       "    .dataframe tbody tr th:only-of-type {\n",
       "        vertical-align: middle;\n",
       "    }\n",
       "\n",
       "    .dataframe tbody tr th {\n",
       "        vertical-align: top;\n",
       "    }\n",
       "\n",
       "    .dataframe thead th {\n",
       "        text-align: right;\n",
       "    }\n",
       "</style>\n",
       "<table border=\"1\" class=\"dataframe\">\n",
       "  <thead>\n",
       "    <tr style=\"text-align: right;\">\n",
       "      <th></th>\n",
       "      <th>RecoveryTime</th>\n",
       "    </tr>\n",
       "    <tr>\n",
       "      <th>AgeGroup</th>\n",
       "      <th></th>\n",
       "    </tr>\n",
       "  </thead>\n",
       "  <tbody>\n",
       "    <tr>\n",
       "      <th>0 to 4</th>\n",
       "      <td>10.333333</td>\n",
       "    </tr>\n",
       "    <tr>\n",
       "      <th>05 to 9</th>\n",
       "      <td>14.000000</td>\n",
       "    </tr>\n",
       "    <tr>\n",
       "      <th>10 to 14</th>\n",
       "      <td>12.000000</td>\n",
       "    </tr>\n",
       "    <tr>\n",
       "      <th>15 to 19</th>\n",
       "      <td>6.500000</td>\n",
       "    </tr>\n",
       "    <tr>\n",
       "      <th>20 to 24</th>\n",
       "      <td>15.960784</td>\n",
       "    </tr>\n",
       "    <tr>\n",
       "      <th>25 to 29</th>\n",
       "      <td>15.704545</td>\n",
       "    </tr>\n",
       "    <tr>\n",
       "      <th>30 to 34</th>\n",
       "      <td>15.512000</td>\n",
       "    </tr>\n",
       "    <tr>\n",
       "      <th>35 to 39</th>\n",
       "      <td>14.964706</td>\n",
       "    </tr>\n",
       "    <tr>\n",
       "      <th>40 to 44</th>\n",
       "      <td>13.217949</td>\n",
       "    </tr>\n",
       "    <tr>\n",
       "      <th>45 to 49</th>\n",
       "      <td>12.765306</td>\n",
       "    </tr>\n",
       "    <tr>\n",
       "      <th>50 to 54</th>\n",
       "      <td>13.172727</td>\n",
       "    </tr>\n",
       "    <tr>\n",
       "      <th>55 to 59</th>\n",
       "      <td>13.786408</td>\n",
       "    </tr>\n",
       "    <tr>\n",
       "      <th>60 to 64</th>\n",
       "      <td>15.121951</td>\n",
       "    </tr>\n",
       "    <tr>\n",
       "      <th>65 to 69</th>\n",
       "      <td>13.840580</td>\n",
       "    </tr>\n",
       "    <tr>\n",
       "      <th>70 to 74</th>\n",
       "      <td>17.000000</td>\n",
       "    </tr>\n",
       "    <tr>\n",
       "      <th>75 to 79</th>\n",
       "      <td>12.480000</td>\n",
       "    </tr>\n",
       "    <tr>\n",
       "      <th>80+</th>\n",
       "      <td>11.666667</td>\n",
       "    </tr>\n",
       "    <tr>\n",
       "      <th>All</th>\n",
       "      <td>14.287879</td>\n",
       "    </tr>\n",
       "  </tbody>\n",
       "</table>\n",
       "</div>"
      ],
      "text/plain": [
       "          RecoveryTime\n",
       "AgeGroup              \n",
       "0 to 4       10.333333\n",
       "05 to 9      14.000000\n",
       "10 to 14     12.000000\n",
       "15 to 19      6.500000\n",
       "20 to 24     15.960784\n",
       "25 to 29     15.704545\n",
       "30 to 34     15.512000\n",
       "35 to 39     14.964706\n",
       "40 to 44     13.217949\n",
       "45 to 49     12.765306\n",
       "50 to 54     13.172727\n",
       "55 to 59     13.786408\n",
       "60 to 64     15.121951\n",
       "65 to 69     13.840580\n",
       "70 to 74     17.000000\n",
       "75 to 79     12.480000\n",
       "80+          11.666667\n",
       "All          14.287879"
      ]
     },
     "execution_count": 11,
     "metadata": {},
     "output_type": "execute_result"
    }
   ],
   "source": [
    "# Creating a pivot table which groups values by age group, and then getting the mean\n",
    "\n",
    "pv_rectime_age = recovered.pivot_table(['RecoveryTime'], 'AgeGroup', aggfunc=np.mean, margins=True)\n",
    "pv_rectime_age"
   ]
  },
  {
   "cell_type": "code",
   "execution_count": 12,
   "metadata": {},
   "outputs": [
    {
     "data": {
      "text/plain": [
       "Text(0.5, 0, 'Average Number of Days')"
      ]
     },
     "execution_count": 12,
     "metadata": {},
     "output_type": "execute_result"
    },
    {
     "data": {
      "image/png": "[encoded data removed]",
      "text/plain": [
       "<Figure size 432x288 with 1 Axes>"
      ]
     },
     "metadata": {
      "needs_background": "light"
     },
     "output_type": "display_data"
    }
   ],
   "source": [
    "# plotting our pivot table into a horizontal bar graph\n",
    "\n",
    "pv_rectime_age.plot(kind='barh', legend=False, title='Average Recovery Time per Age Group')\n",
    "plt.xlabel('Average Number of Days')"
   ]
  },
  {
   "cell_type": "code",
   "execution_count": null,
   "metadata": {},
   "outputs": [],
   "source": []
  }
 ],
 "metadata": {
  "kernelspec": {
   "display_name": "Python 3",
   "language": "python",
   "name": "python3"
  },
  "language_info": {
   "codemirror_mode": {
    "name": "ipython",
    "version": 3
   },
   "file_extension": ".py",
   "mimetype": "text/x-python",
   "name": "python",
   "nbconvert_exporter": "python",
   "pygments_lexer": "ipython3",
   "version": "3.8.2"
  }
 },
 "nbformat": 4,
 "nbformat_minor": 4
}
